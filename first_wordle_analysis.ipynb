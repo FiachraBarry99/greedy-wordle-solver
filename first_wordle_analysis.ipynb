{
 "cells": [
  {
   "cell_type": "code",
   "execution_count": 1,
   "metadata": {},
   "outputs": [
    {
     "data": {
      "text/html": [
       "<div>\n",
       "<style scoped>\n",
       "    .dataframe tbody tr th:only-of-type {\n",
       "        vertical-align: middle;\n",
       "    }\n",
       "\n",
       "    .dataframe tbody tr th {\n",
       "        vertical-align: top;\n",
       "    }\n",
       "\n",
       "    .dataframe thead th {\n",
       "        text-align: right;\n",
       "    }\n",
       "</style>\n",
       "<table border=\"1\" class=\"dataframe\">\n",
       "  <thead>\n",
       "    <tr style=\"text-align: right;\">\n",
       "      <th></th>\n",
       "      <th>SOLUTION/GUESS</th>\n",
       "      <th>aahed</th>\n",
       "      <th>aalii</th>\n",
       "      <th>aargh</th>\n",
       "      <th>aarti</th>\n",
       "      <th>abaca</th>\n",
       "      <th>abaci</th>\n",
       "      <th>abacs</th>\n",
       "      <th>abaft</th>\n",
       "      <th>abaka</th>\n",
       "      <th>...</th>\n",
       "      <th>zupan</th>\n",
       "      <th>zupas</th>\n",
       "      <th>zuppa</th>\n",
       "      <th>zurfs</th>\n",
       "      <th>zuzim</th>\n",
       "      <th>zygal</th>\n",
       "      <th>zygon</th>\n",
       "      <th>zymes</th>\n",
       "      <th>zymic</th>\n",
       "      <th>secs/solution</th>\n",
       "    </tr>\n",
       "  </thead>\n",
       "  <tbody>\n",
       "    <tr>\n",
       "      <th>0</th>\n",
       "      <td>aback</td>\n",
       "      <td>2251</td>\n",
       "      <td>2242</td>\n",
       "      <td>2235</td>\n",
       "      <td>2264</td>\n",
       "      <td>2314</td>\n",
       "      <td>2314</td>\n",
       "      <td>2314</td>\n",
       "      <td>2313</td>\n",
       "      <td>2314</td>\n",
       "      <td>...</td>\n",
       "      <td>1881</td>\n",
       "      <td>1892</td>\n",
       "      <td>1656</td>\n",
       "      <td>1610</td>\n",
       "      <td>1223</td>\n",
       "      <td>1944</td>\n",
       "      <td>1441</td>\n",
       "      <td>1771</td>\n",
       "      <td>2051</td>\n",
       "      <td>87.885251</td>\n",
       "    </tr>\n",
       "    <tr>\n",
       "      <th>1</th>\n",
       "      <td>abase</td>\n",
       "      <td>2281</td>\n",
       "      <td>2242</td>\n",
       "      <td>2235</td>\n",
       "      <td>2264</td>\n",
       "      <td>2313</td>\n",
       "      <td>2313</td>\n",
       "      <td>2314</td>\n",
       "      <td>2313</td>\n",
       "      <td>2313</td>\n",
       "      <td>...</td>\n",
       "      <td>1881</td>\n",
       "      <td>2175</td>\n",
       "      <td>1656</td>\n",
       "      <td>1990</td>\n",
       "      <td>1223</td>\n",
       "      <td>1944</td>\n",
       "      <td>1441</td>\n",
       "      <td>2148</td>\n",
       "      <td>1442</td>\n",
       "      <td>66.437307</td>\n",
       "    </tr>\n",
       "    <tr>\n",
       "      <th>2</th>\n",
       "      <td>abate</td>\n",
       "      <td>2281</td>\n",
       "      <td>2242</td>\n",
       "      <td>2235</td>\n",
       "      <td>2311</td>\n",
       "      <td>2313</td>\n",
       "      <td>2313</td>\n",
       "      <td>2314</td>\n",
       "      <td>2314</td>\n",
       "      <td>2313</td>\n",
       "      <td>...</td>\n",
       "      <td>1881</td>\n",
       "      <td>1892</td>\n",
       "      <td>1656</td>\n",
       "      <td>1610</td>\n",
       "      <td>1223</td>\n",
       "      <td>1944</td>\n",
       "      <td>1441</td>\n",
       "      <td>1910</td>\n",
       "      <td>1442</td>\n",
       "      <td>80.780806</td>\n",
       "    </tr>\n",
       "    <tr>\n",
       "      <th>3</th>\n",
       "      <td>abbey</td>\n",
       "      <td>2302</td>\n",
       "      <td>2242</td>\n",
       "      <td>2235</td>\n",
       "      <td>2264</td>\n",
       "      <td>2304</td>\n",
       "      <td>2305</td>\n",
       "      <td>2306</td>\n",
       "      <td>2307</td>\n",
       "      <td>2304</td>\n",
       "      <td>...</td>\n",
       "      <td>1881</td>\n",
       "      <td>1892</td>\n",
       "      <td>1656</td>\n",
       "      <td>1610</td>\n",
       "      <td>1223</td>\n",
       "      <td>2230</td>\n",
       "      <td>2095</td>\n",
       "      <td>2297</td>\n",
       "      <td>2072</td>\n",
       "      <td>81.369926</td>\n",
       "    </tr>\n",
       "    <tr>\n",
       "      <th>4</th>\n",
       "      <td>abbot</td>\n",
       "      <td>2251</td>\n",
       "      <td>2242</td>\n",
       "      <td>2235</td>\n",
       "      <td>2299</td>\n",
       "      <td>2304</td>\n",
       "      <td>2305</td>\n",
       "      <td>2306</td>\n",
       "      <td>2312</td>\n",
       "      <td>2304</td>\n",
       "      <td>...</td>\n",
       "      <td>1881</td>\n",
       "      <td>1892</td>\n",
       "      <td>1656</td>\n",
       "      <td>1610</td>\n",
       "      <td>1223</td>\n",
       "      <td>1944</td>\n",
       "      <td>2237</td>\n",
       "      <td>1771</td>\n",
       "      <td>1442</td>\n",
       "      <td>78.595255</td>\n",
       "    </tr>\n",
       "  </tbody>\n",
       "</table>\n",
       "<p>5 rows × 10659 columns</p>\n",
       "</div>"
      ],
      "text/plain": [
       "  SOLUTION/GUESS  aahed  aalii  aargh  aarti  abaca  abaci  abacs  abaft  \\\n",
       "0          aback   2251   2242   2235   2264   2314   2314   2314   2313   \n",
       "1          abase   2281   2242   2235   2264   2313   2313   2314   2313   \n",
       "2          abate   2281   2242   2235   2311   2313   2313   2314   2314   \n",
       "3          abbey   2302   2242   2235   2264   2304   2305   2306   2307   \n",
       "4          abbot   2251   2242   2235   2299   2304   2305   2306   2312   \n",
       "\n",
       "   abaka  ...  zupan  zupas  zuppa  zurfs  zuzim  zygal  zygon  zymes  zymic  \\\n",
       "0   2314  ...   1881   1892   1656   1610   1223   1944   1441   1771   2051   \n",
       "1   2313  ...   1881   2175   1656   1990   1223   1944   1441   2148   1442   \n",
       "2   2313  ...   1881   1892   1656   1610   1223   1944   1441   1910   1442   \n",
       "3   2304  ...   1881   1892   1656   1610   1223   2230   2095   2297   2072   \n",
       "4   2304  ...   1881   1892   1656   1610   1223   1944   2237   1771   1442   \n",
       "\n",
       "   secs/solution  \n",
       "0      87.885251  \n",
       "1      66.437307  \n",
       "2      80.780806  \n",
       "3      81.369926  \n",
       "4      78.595255  \n",
       "\n",
       "[5 rows x 10659 columns]"
      ]
     },
     "execution_count": 1,
     "metadata": {},
     "output_type": "execute_result"
    }
   ],
   "source": [
    "import pandas as pd\n",
    "\n",
    "df = pd.read_csv(r'first-wordle.csv')\n",
    "df.head()"
   ]
  },
  {
   "cell_type": "code",
   "execution_count": 8,
   "metadata": {},
   "outputs": [
    {
     "data": {
      "text/plain": [
       "<AxesSubplot:>"
      ]
     },
     "execution_count": 8,
     "metadata": {},
     "output_type": "execute_result"
    },
    {
     "data": {
      "image/png": "[encoded data removed]",
      "text/plain": [
       "<Figure size 432x288 with 1 Axes>"
      ]
     },
     "metadata": {
      "needs_background": "light"
     },
     "output_type": "display_data"
    }
   ],
   "source": [
    "df['secs/solution'].plot(grid = True)"
   ]
  },
  {
   "cell_type": "code",
   "execution_count": 14,
   "metadata": {},
   "outputs": [
    {
     "name": "stdout",
     "output_type": "stream",
     "text": [
      "Median secs/solution time: 68.67s\n",
      "Mean secs/solution time: 69.68s\n",
      "Total time: 44.81hrs\n"
     ]
    },
    {
     "data": {
      "image/png": "[encoded data removed]",
      "text/plain": [
       "<Figure size 432x288 with 1 Axes>"
      ]
     },
     "metadata": {
      "needs_background": "light"
     },
     "output_type": "display_data"
    }
   ],
   "source": [
    "df['secs/solution'].plot(ylim=(0, 100), grid = True, ylabel = 'secs/solution', xlabel = 'iteration no.')\n",
    "\n",
    "median = round(df['secs/solution'].median(), 2)\n",
    "mean = round(df['secs/solution'].mean(), 2)\n",
    "total = round(df['secs/solution'].sum(), 2)\n",
    "\n",
    "print(f'Median secs/solution time: {median}s')\n",
    "print(f'Mean secs/solution time: {mean}s')\n",
    "print(f'Total time: {round(total/3600, 2)}hrs')"
   ]
  },
  {
   "cell_type": "code",
   "execution_count": 37,
   "metadata": {},
   "outputs": [],
   "source": [
    "averages = pd.Series(dtype='float64')\n",
    "\n",
    "for column in df.columns[1:-1]:\n",
    "\n",
    "    averages[column] = df[column].mean()\n",
    "    "
   ]
  },
  {
   "cell_type": "code",
   "execution_count": 38,
   "metadata": {},
   "outputs": [
    {
     "name": "stdout",
     "output_type": "stream",
     "text": [
      "The best starting word is roate with an average eliminations of 2254.58\n",
      "The worst starting word is immix with an average eliminations of 1345.03\n"
     ]
    }
   ],
   "source": [
    "max = averages.max()\n",
    "max_word = averages.idxmax()\n",
    "\n",
    "min = averages.min()\n",
    "min_word = averages.idxmin()\n",
    "\n",
    "print(f'The best starting word is {max_word} with an average eliminations of {round(max, 2)}')\n",
    "print(f'The worst starting word is {min_word} with an average eliminations of {round(min, 2)}')\n"
   ]
  }
 ],
 "metadata": {
  "interpreter": {
   "hash": "0e7f7ebbce0d23546d4d34be5db7f8b8c6ff0b973a3f102ebf8306995227c480"
  },
  "kernelspec": {
   "display_name": "Python 3.8.9 64-bit ('venv': venv)",
   "language": "python",
   "name": "python3"
  },
  "language_info": {
   "codemirror_mode": {
    "name": "ipython",
    "version": 3
   },
   "file_extension": ".py",
   "mimetype": "text/x-python",
   "name": "python",
   "nbconvert_exporter": "python",
   "pygments_lexer": "ipython3",
   "version": "3.8.9"
  },
  "orig_nbformat": 4
 },
 "nbformat": 4,
 "nbformat_minor": 2
}
